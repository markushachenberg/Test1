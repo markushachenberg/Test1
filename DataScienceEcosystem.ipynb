{
 "cells": [
  {
   "cell_type": "markdown",
   "id": "4fd9bc7a",
   "metadata": {},
   "source": [
    "# Data Science Tools and Ecosystem"
   ]
  },
  {
   "cell_type": "markdown",
   "id": "3c248b17",
   "metadata": {},
   "source": [
    "## Author: \n",
    "Markus H."
   ]
  },
  {
   "cell_type": "code",
   "execution_count": null,
   "id": "81ec9a28",
   "metadata": {},
   "outputs": [],
   "source": []
  },
  {
   "cell_type": "markdown",
   "id": "73896735",
   "metadata": {},
   "source": [
    "In this notebook, Data Science Tools and Ecosystem are summarized."
   ]
  },
  {
   "cell_type": "markdown",
   "id": "6639ff5c",
   "metadata": {},
   "source": [
    "Objectives:\n",
    "- popular languages\n",
    "- popular libraries for Python\n",
    "- popular tools\n",
    "- simple arithmic equations"
   ]
  },
  {
   "cell_type": "markdown",
   "id": "1be19526",
   "metadata": {},
   "source": [
    "Some of the popular languages that Data Scientists use are:\n",
    "1. R\n",
    "2. Python\n",
    "3. SQL\n",
    "4. Skala"
   ]
  },
  {
   "cell_type": "markdown",
   "id": "68e1c7d1",
   "metadata": {},
   "source": [
    "Some of the commonly used libraries used by Data Scientists include:\n",
    "1. Pandas\n",
    "2. Dataframe\n",
    "3. NumPy\n",
    "4. Matplotlib\n",
    "5. Seabron"
   ]
  },
  {
   "cell_type": "markdown",
   "id": "57f14e2d",
   "metadata": {},
   "source": [
    "|Data Science Tools:|\n",
    "------------------------------\n",
    "|Jupyter Notebooks|\n",
    "|RStudio|\n",
    "|Apache Spark|\n"
   ]
  },
  {
   "cell_type": "markdown",
   "id": "f1723902",
   "metadata": {},
   "source": [
    "### Below are a few examples of evaluating arithmetic expressions in Python"
   ]
  },
  {
   "cell_type": "code",
   "execution_count": 2,
   "id": "b3bf69f6",
   "metadata": {},
   "outputs": [
    {
     "data": {
      "text/plain": [
       "17"
      ]
     },
     "execution_count": 2,
     "metadata": {},
     "output_type": "execute_result"
    }
   ],
   "source": [
    "#This a simple arithmetic expression to mutiply then add integers\n",
    "(3*4)+5"
   ]
  },
  {
   "cell_type": "code",
   "execution_count": 10,
   "id": "d312597e",
   "metadata": {},
   "outputs": [
    {
     "name": "stdout",
     "output_type": "stream",
     "text": [
      "3  hours and  20  minutes \n"
     ]
    }
   ],
   "source": [
    "#This will convert 200 minutes to hours by diving by 60\n",
    "200//60\n",
    "#alternative:\n",
    "print(200//60 , \" hours and \" , 200%60 , \" minutes \")"
   ]
  },
  {
   "cell_type": "code",
   "execution_count": null,
   "id": "a5751b1d",
   "metadata": {},
   "outputs": [],
   "source": []
  }
 ],
 "metadata": {
  "kernelspec": {
   "display_name": "Python 3 (ipykernel)",
   "language": "python",
   "name": "python3"
  },
  "language_info": {
   "codemirror_mode": {
    "name": "ipython",
    "version": 3
   },
   "file_extension": ".py",
   "mimetype": "text/x-python",
   "name": "python",
   "nbconvert_exporter": "python",
   "pygments_lexer": "ipython3",
   "version": "3.11.4"
  }
 },
 "nbformat": 4,
 "nbformat_minor": 5
}
